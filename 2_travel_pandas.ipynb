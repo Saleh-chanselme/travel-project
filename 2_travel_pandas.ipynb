{
 "cells": [
  {
   "cell_type": "markdown",
   "metadata": {},
   "source": [
    "# En voyage avec (des) pandas\n",
    "\n",
    "Suite à la première étape où vous avez découvert (ou révisé) des bases de Python, vous allez découvrir (ou réviser) l'utilisation de la bibliothèque **pandas** pour traiter un fichier csv travel_data.csv qui contient un carnet de voyage.\n",
    "\n",
    "Pour réaliser les exercices, utilisez la documentation officielle de pandas :  \n",
    "https://pandas.pydata.org/pandas-docs/stable/\n",
    "\n",
    "N'hésitez pas à rechercher les fonctions, méthodes et exemples nécessaires pour compléter les tâches demandées.  \n",
    "\n",
    "Chaque cellule de code est précédée d'une cellule TODO indiquant la liste des objectifs à atteindre.\n",
    "\n",
    "Répondez également dans le notebook aux petites questions proposées."
   ]
  },
  {
   "cell_type": "code",
   "execution_count": 38,
   "id": "b5c50044",
   "metadata": {},
   "outputs": [
    {
     "name": "stdout",
     "output_type": "stream",
     "text": [
      "Requirement already satisfied: pandas in ./.venv/lib/python3.12/site-packages (2.3.0)\n",
      "Requirement already satisfied: numpy>=1.26.0 in ./.venv/lib/python3.12/site-packages (from pandas) (2.3.1)\n",
      "Requirement already satisfied: python-dateutil>=2.8.2 in ./.venv/lib/python3.12/site-packages (from pandas) (2.9.0.post0)\n",
      "Requirement already satisfied: pytz>=2020.1 in ./.venv/lib/python3.12/site-packages (from pandas) (2025.2)\n",
      "Requirement already satisfied: tzdata>=2022.7 in ./.venv/lib/python3.12/site-packages (from pandas) (2025.2)\n",
      "Requirement already satisfied: six>=1.5 in ./.venv/lib/python3.12/site-packages (from python-dateutil>=2.8.2->pandas) (1.17.0)\n"
     ]
    }
   ],
   "source": [
    "# Il faut installer la bibliothèque pandas. On verra comment faire ça proprement plus tard.\n",
    "!pip install pandas"
   ]
  },
  {
   "cell_type": "markdown",
   "metadata": {},
   "source": [
    "# 1. Charger et afficher les données\n",
    "\n",
    "**TODO**\n",
    "\n",
    "- Importer la bibliothèque pandas sous l’alias `pd`  \n",
    "- Charger le fichier `travel_journal.csv` dans un DataFrame `df_trips`  \n",
    "- Afficher les 5 premières lignes du DataFrame  \n",
    "- Afficher les types de données des colonnes"
   ]
  },
  {
   "cell_type": "code",
   "execution_count": 39,
   "metadata": {},
   "outputs": [
    {
     "name": "stdout",
     "output_type": "stream",
     "text": [
      "Requirement already satisfied: pandas in ./.venv/lib/python3.12/site-packages (2.3.0)\n",
      "Requirement already satisfied: numpy>=1.26.0 in ./.venv/lib/python3.12/site-packages (from pandas) (2.3.1)\n",
      "Requirement already satisfied: python-dateutil>=2.8.2 in ./.venv/lib/python3.12/site-packages (from pandas) (2.9.0.post0)\n",
      "Requirement already satisfied: pytz>=2020.1 in ./.venv/lib/python3.12/site-packages (from pandas) (2025.2)\n",
      "Requirement already satisfied: tzdata>=2022.7 in ./.venv/lib/python3.12/site-packages (from pandas) (2025.2)\n",
      "Requirement already satisfied: six>=1.5 in ./.venv/lib/python3.12/site-packages (from python-dateutil>=2.8.2->pandas) (1.17.0)\n"
     ]
    }
   ],
   "source": [
    "# Write your code here\n",
    "!pip install pandas"
   ]
  },
  {
   "cell_type": "code",
   "execution_count": 40,
   "id": "ab7eaa40",
   "metadata": {},
   "outputs": [
    {
     "name": "stdout",
     "output_type": "stream",
     "text": [
      "        city        date weather     mood  photos\n",
      "0      Paris  2024-03-15   sunny    happy     150\n",
      "1       Lyon  2024-04-10  cloudy  curious      80\n",
      "2  Marseille  2024-05-05     NaN      sad      25\n",
      "3   Bordeaux  2024-06-20   sunny  excited     200\n",
      "4       Nice  2024-07-12   sunny  relaxed     180\n",
      "--------------------------------------------------------\n",
      "city       object\n",
      "date       object\n",
      "weather    object\n",
      "mood       object\n",
      "photos      int64\n",
      "dtype: object\n"
     ]
    }
   ],
   "source": [
    "import pandas as pd\n",
    "df_trips = pd.read_csv(\"travel_data.csv\")\n",
    "print(df_trips.head())\n",
    "print(\"--------------------------------------------------------\")\n",
    "print(df_trips.dtypes)\n"
   ]
  },
  {
   "cell_type": "markdown",
   "metadata": {},
   "source": [
    "# 2. Nettoyer les données manquantes\n",
    "\n",
    "**TODO**\n",
    "\n",
    "- Identifier les lignes avec des valeurs manquantes dans le DataFrame  \n",
    "- Remplacer les valeurs manquantes dans la colonne `weather` par `\"unknown\"`  \n",
    "- Convertir la colonne `date` en format datetime  \n",
    "- Trier le DataFrame par date croissante\n",
    "- Exporter les données dans un fichier clean_travel_data.csv\n",
    "- A votre avis quel autre type de vérifications pourrait-on faire afin de nettoyer les données ?"
   ]
  },
  {
   "cell_type": "code",
   "execution_count": null,
   "id": "5981a311",
   "metadata": {},
   "outputs": [
    {
     "name": "stdout",
     "output_type": "stream",
     "text": [
      "0       sunny\n",
      "10     cloudy\n",
      "1      cloudy\n",
      "11      sunny\n",
      "2     unknown\n",
      "Name: weather, dtype: object\n",
      "\n"
     ]
    },
    {
     "name": "stderr",
     "output_type": "stream",
     "text": [
      "/tmp/ipykernel_19348/2463207436.py:1: FutureWarning: A value is trying to be set on a copy of a DataFrame or Series through chained assignment using an inplace method.\n",
      "The behavior will change in pandas 3.0. This inplace method will never work because the intermediate object on which we are setting values always behaves as a copy.\n",
      "\n",
      "For example, when doing 'df[col].method(value, inplace=True)', try using 'df.method({col: value}, inplace=True)' or df[col] = df[col].method(value) instead, to perform the operation inplace on the original object.\n",
      "\n",
      "\n",
      "  df_trips['weather'].fillna('unknown', inplace=True)# remplace les valeurs manquantes par 'unknown'\n"
     ]
    }
   ],
   "source": [
    "df_fillna = df_trips['weather'].fillna('unknown', inplace=True)# remplace les valeurs manquantes par 'unknown'\n",
    "print(df_fillna.head(5))\n",
    "print()"
   ]
  },
  {
   "cell_type": "code",
   "execution_count": 56,
   "metadata": {},
   "outputs": [
    {
     "name": "stdout",
     "output_type": "stream",
     "text": [
      "Empty DataFrame\n",
      "Columns: [city, date, weather, mood, photos]\n",
      "Index: []\n",
      "0    2024-03-15\n",
      "10   2024-03-20\n",
      "1    2024-04-10\n",
      "11   2024-04-15\n",
      "2    2024-05-05\n",
      "Name: date, dtype: datetime64[ns]\n",
      "clean_travel_data.csv\n"
     ]
    }
   ],
   "source": [
    "# Write your code here \n",
    "lignes_manquantes = df_trips[df_trips.isnull().any(axis=1)]\n",
    "#print(\"Rows with missing data:\") # Uncomment to see rows with missing data\n",
    "print(lignes_manquantes)\n",
    "df_fillna = df_trips['weather'].fillna('unknown')# remplace les valeurs manquantes par 'unknown'\n",
    "df_trips['date'] = pd.to_datetime(df_trips['date']) # convertit la colonne 'date' en datetime\n",
    "print(df_trips['date'].head()) # affiche les 5 premières dates pour vérifier la conversion\n",
    "df_trips = df_trips.sort_values(by='date', ascending=True) # trie les données par date\n",
    "df_trips.to_csv('clean_travel_data.csv', index=False) # sauvegarde les données nettoyées dans un nouveau fichier CSV\n",
    "\n",
    "print('clean_travel_data.csv')"
   ]
  },
  {
   "cell_type": "code",
   "execution_count": 58,
   "id": "c965d70d",
   "metadata": {},
   "outputs": [
    {
     "name": "stdout",
     "output_type": "stream",
     "text": [
      "           city        date  weather        mood  photos\n",
      "0         Paris  2024-03-15    sunny       happy     150\n",
      "1         Paris  2024-03-20   cloudy     excited     130\n",
      "2          Lyon  2024-04-10   cloudy     curious      80\n",
      "3          Lyon  2024-04-15    sunny      joyful      95\n",
      "4     Marseille  2024-05-05  unknown         sad      25\n",
      "5     Marseille  2024-05-10    sunny     relaxed      75\n",
      "6      Bordeaux  2024-06-20    sunny     excited     200\n",
      "7      Bordeaux  2024-06-25    rainy  thoughtful      30\n",
      "8          Nice  2024-07-12    sunny     relaxed     180\n",
      "9          Nice  2024-07-20    rainy         sad      40\n",
      "10   Strasbourg  2024-08-30    rainy  thoughtful      20\n",
      "11   Strasbourg  2024-09-05   cloudy       happy      55\n",
      "12     Toulouse  2024-09-15   cloudy       happy      90\n",
      "13     Toulouse  2024-09-20    sunny     curious      85\n",
      "14       Nantes  2024-10-05  unknown        calm      70\n",
      "15       Nantes  2024-10-10    sunny     excited      65\n",
      "16  Montpellier  2024-11-25    sunny      joyful     110\n",
      "17  Montpellier  2024-12-01    rainy       bored      35\n",
      "18     Grenoble  2024-12-10    snowy        cold     -15\n",
      "19     Grenoble  2024-12-15    snowy        calm      20\n"
     ]
    }
   ],
   "source": [
    "df_check = pd.read_csv('clean_travel_data.csv')\n",
    "print(df_check) \n",
    "# this will print the cleaned data to verify the changes\n"
   ]
  },
  {
   "cell_type": "markdown",
   "metadata": {},
   "source": [
    "# 3. Filtrer et trier les voyages\n",
    "\n",
    "**TODO**\n",
    "\n",
    "- Extraire les voyages où la météo est `\"sunny\"` et le nombre de photos est supérieur à 100  \n",
    "- Trier ces voyages par nombre de photos décroissant  \n",
    "- Afficher les colonnes `city`, `date`, `photos` du résultat filtré"
   ]
  },
  {
   "cell_type": "code",
   "execution_count": 68,
   "metadata": {},
   "outputs": [
    {
     "name": "stdout",
     "output_type": "stream",
     "text": [
      "           city       date  photos\n",
      "9      Grenoble 2024-12-10     -15\n",
      "5    Strasbourg 2024-08-30      20\n",
      "19     Grenoble 2024-12-15      20\n",
      "2     Marseille 2024-05-05      25\n",
      "13     Bordeaux 2024-06-25      30\n",
      "18  Montpellier 2024-12-01      35\n",
      "14         Nice 2024-07-20      40\n",
      "15   Strasbourg 2024-09-05      55\n",
      "17       Nantes 2024-10-10      65\n",
      "7        Nantes 2024-10-05      70\n",
      "12    Marseille 2024-05-10      75\n",
      "1          Lyon 2024-04-10      80\n",
      "16     Toulouse 2024-09-20      85\n",
      "6      Toulouse 2024-09-15      90\n",
      "11         Lyon 2024-04-15      95\n",
      "8   Montpellier 2024-11-25     110\n",
      "10        Paris 2024-03-20     130\n",
      "0         Paris 2024-03-15     150\n",
      "4          Nice 2024-07-12     180\n",
      "3      Bordeaux 2024-06-20     200\n"
     ]
    }
   ],
   "source": [
    "# Write your code here\n",
    "tiltered_trips = df_trips[(df_trips['weather'] == 'sunny') & (df_trips['photos'] > 100)] # Filter trips with sunny weather and more than 100 photos\n",
    "tiltered_trips = df_trips.sort_values(by='photos', ascending=True) # Sort the filtered trips by the number of photos in ascending order\n",
    "print(tiltered_trips[['city', 'date', 'photos']]) # Display the filtered trips with city, date, and photos columns"
   ]
  },
  {
   "cell_type": "markdown",
   "metadata": {},
   "source": [
    "# 4. Groupements et agrégations\n",
    "\n",
    "**TODO**\n",
    "\n",
    "- Calculer le total des photos prises par ville  \n",
    "- Calculer la moyenne des photos selon la météo  \n",
    "- Compter le nombre de voyages par humeur (mood)"
   ]
  },
  {
   "cell_type": "code",
   "execution_count": 72,
   "metadata": {},
   "outputs": [
    {
     "name": "stdout",
     "output_type": "stream",
     "text": [
      "city\n",
      "Bordeaux       230\n",
      "Grenoble         5\n",
      "Lyon           175\n",
      "Marseille      100\n",
      "Montpellier    145\n",
      "Nantes         135\n",
      "Nice           220\n",
      "Paris          280\n",
      "Strasbourg      75\n",
      "Toulouse       175\n",
      "Name: photos, dtype: int64\n",
      "--------------------------------------------------------\n",
      "weather\n",
      "cloudy      88.75\n",
      "rainy       31.25\n",
      "snowy        2.50\n",
      "sunny      120.00\n",
      "unknown     47.50\n",
      "Name: photos, dtype: float64\n",
      "--------------------------------------------------------\n",
      "mood\n",
      "bored         1\n",
      "calm          2\n",
      "cold          1\n",
      "curious       2\n",
      "excited       3\n",
      "happy         3\n",
      "joyful        2\n",
      "relaxed       2\n",
      "sad           2\n",
      "thoughtful    2\n",
      "Name: photos, dtype: int64\n"
     ]
    }
   ],
   "source": [
    "# Write your code here\n",
    "total_photos_by_city = tiltered_trips.groupby('city')['photos'].sum()# Group by city and sum the photos\n",
    "print(total_photos_by_city)\n",
    "print(\"--------------------------------------------------------\")\n",
    "avrage_photo_by_weather = tiltered_trips.groupby('weather')['photos'].mean()# Group by weather and calculate the average photos\n",
    "print(avrage_photo_by_weather)\n",
    "print(\"--------------------------------------------------------\")\n",
    "trips_by_mood = tiltered_trips.groupby('mood')['photos'].count()# Group by mood and count the number of trips\n",
    "print(trips_by_mood)"
   ]
  }
 ],
 "metadata": {
  "kernelspec": {
   "display_name": ".venv",
   "language": "python",
   "name": "python3"
  },
  "language_info": {
   "codemirror_mode": {
    "name": "ipython",
    "version": 3
   },
   "file_extension": ".py",
   "mimetype": "text/x-python",
   "name": "python",
   "nbconvert_exporter": "python",
   "pygments_lexer": "ipython3",
   "version": "3.12.3"
  }
 },
 "nbformat": 4,
 "nbformat_minor": 5
}
