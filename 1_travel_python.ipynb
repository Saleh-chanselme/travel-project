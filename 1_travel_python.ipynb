{
 "cells": [
  {
   "cell_type": "markdown",
   "id": "afa68136",
   "metadata": {},
   "source": [
    "# En voyage avec (un) python\n",
    "\n",
    "Dans ce notebook on vous propose de découvrir quelques bases de python en s'intéressant à des carnets de voyage."
   ]
  },
  {
   "cell_type": "markdown",
   "id": "bf55835c",
   "metadata": {},
   "source": [
    "### 1 – Moyenne de photos prises par jour  \n",
    "On stocke des informations sur un voyage (_variables_), on calcule le nombre de photos prises par jour, et on affiche le résumé (`print`).\n",
    "\n",
    "Les f-strings permettent de faire de l'affichage (`print`) sans utiliser de virgules si vous voulez afficher à la fois du texte et une variable.\n",
    "\n",
    "Exemple : \n",
    "\n",
    "```print(f'Ma variable est égale à {nom_de_ma_variable})```\n",
    "\n",
    "\n",
    "Les # permettent d'écrire des commentaires, c'est-à-dire des lignes qui ne font pas parties du code au moment de l'éxécution.\n",
    "\n",
    "**TODO**\n",
    "\n",
    "- Calculer le nombre moyen de photos pris par jour durant le voyage,\n",
    "- Ajouter une nouvelle variable de votre choix et un nouveau calcul de variable,\n",
    "- Utiliser cette méthode pour afficher le nombre moyen de photo prises par jour."
   ]
  },
  {
   "cell_type": "code",
   "execution_count": 105,
   "id": "b05d9e4b",
   "metadata": {},
   "outputs": [
    {
     "name": "stdout",
     "output_type": "stream",
     "text": [
      "<class 'str'>\n"
     ]
    }
   ],
   "source": [
    "# Define variables for the trip\n",
    "city = \"Montpellier\" \n",
    "\n",
    "# Plot variable type\n",
    "print(type(city)) # string = chaîne de caractères\n",
    "\n",
    "department = 34\n",
    "days_spent = 5.5 # float = nombre décimal\n",
    "photos_taken = 230 # integer = nombre entier\n",
    "great_trip = True # boolean = vrai ou faux"
   ]
  },
  {
   "cell_type": "code",
   "execution_count": null,
   "id": "2e385adf",
   "metadata": {},
   "outputs": [],
   "source": []
  },
  {
   "cell_type": "code",
   "execution_count": 106,
   "id": "0063454a",
   "metadata": {},
   "outputs": [
    {
     "name": "stdout",
     "output_type": "stream",
     "text": [
      "True\n",
      "True\n"
     ]
    }
   ],
   "source": [
    "# Compare variables\n",
    "print(photos_taken > 200) # > est un opérateur de comparaison\n",
    "print(great_trip == True) # == is equal to, True if values are equal, False otherwise"
   ]
  },
  {
   "cell_type": "code",
   "execution_count": 107,
   "id": "4f0fbe5c",
   "metadata": {},
   "outputs": [
    {
     "name": "stdout",
     "output_type": "stream",
     "text": [
      "City Montpellier\n",
      "Days Spent 5.5\n"
     ]
    }
   ],
   "source": [
    "# TODO Add new variable\n",
    "\n",
    "# TODO Calculate average photos per day\n",
    "\n",
    "# TODO Calculate something else using your new variable\n",
    "\n",
    "\n",
    "# Print text and variables \n",
    "print(\"City\", city)\n",
    "print(\"Days Spent\", days_spent)\n",
    "\n",
    "# TODO Print average number of photo using f-strings\n"
   ]
  },
  {
   "cell_type": "code",
   "execution_count": 108,
   "id": "44a56b3e",
   "metadata": {},
   "outputs": [
    {
     "name": "stdout",
     "output_type": "stream",
     "text": [
      "Average photos per day: 41.82\n"
     ]
    }
   ],
   "source": [
    "name = \"saleh\"\n",
    "average_photos_per_day = photos_taken / days_spent\n",
    "print(f\"Average photos per day: {average_photos_per_day:.2f}\")"
   ]
  },
  {
   "cell_type": "markdown",
   "id": "dff2a6fe",
   "metadata": {},
   "source": [
    "### 2 – Analyser la météo  \n",
    "\n",
    "__Syntaxe__\n",
    "\n",
    "```\n",
    "# Si la condition_1 est True, alors faire la task_1\n",
    "if condition_1:\n",
    "    faire task_1\n",
    "# Si la condition 2 est True, alors faire la task_2\n",
    "elif condtion_2: \n",
    "    faire task_2\n",
    "# Si la condition 2 est True, alors faire la task_2\n",
    "elif condtion_3: \n",
    "    faire task_3\n",
    "# Sinon faire la task_4\n",
    "else:\n",
    "    faire task_4\n",
    "```\n",
    "\n",
    "Pour la syntaxe et des exemples de conditions, voir la partie précédente du code #Compare variables\n",
    "\n",
    "**TODO**\n",
    "\n",
    "- Créer une liste de plusieurs chaînes de caractères contenant des indications de météo [`string`, `string`].\n",
    "- Créer une variable qui indique la météo d'un jour particulier (`string`).\n",
    "- Analyser la météo et afficher un message personnalisé selon le cas ( `if`, `elif`, `else`).\n",
    "\n",
    "\n"
   ]
  },
  {
   "cell_type": "code",
   "execution_count": 109,
   "id": "61cc3382",
   "metadata": {},
   "outputs": [
    {
     "name": "stdout",
     "output_type": "stream",
     "text": [
      "It's cloudy today. Don't forget your umbrella!\n"
     ]
    }
   ],
   "source": [
    "# Set the weather condition\n",
    "weather = \"cloudy\"\n",
    "\n",
    "# List of accepted weather values (at least 3 different value)\n",
    "valid_weather = [\"sunny\", \"cloudy\", \"rainy\", \"snowy\"]\n",
    "\n",
    "# Check if the weather is in the list of valid_weather values\n",
    "if weather in valid_weather:\n",
    "    if weather == \"cloudy\":\n",
    "        print(\"It's cloudy today. Don't forget your umbrella!\")\n",
    "    elif weather == \"sunny\":\n",
    "        print(\"It's sunny today. Enjoy the sunshine!\")\n",
    "    elif weather == \"rainy\":\n",
    "        print(\"It's rainy today. Stay dry!\")\n",
    "    elif weather == \"snowy\":\n",
    "        print(\"It's snowy today. Build a snowman!\")\n",
    "else:   \n",
    "    print(\"Unknown weather type.\")\n",
    "#the output will be \"It's cloudy today. Don't forget your umbrella!\"\n",
    "    # TODO Test if weather is in valid_weather and display a personalized message"
   ]
  },
  {
   "cell_type": "markdown",
   "id": "8ea60ed0",
   "metadata": {},
   "source": [
    "### 3 - Un dictionnaire de voyage\n",
    "On peut stocker un voyage avec les informations associées dans un dictionnaire.\n",
    "\n",
    "__Syntaxe__\n",
    "\n",
    "\n",
    "````\n",
    "trip = {\"nom information 1\": valeur information 1, \"nom information 2\": valeur information 2}\n",
    "````\n",
    "\n",
    "- Il peut y avoir autant de paire clé/valeur que l'on souhaite.\n",
    "\n",
    "- La clé est nécéssairement une __chaîne de caractère__, la valeur de n'importe quel type (même un autre dictionnaire).\n",
    "\n",
    "\n",
    "\n",
    "````print(trip[\"nom information 1\"])```` affiche ````valeur information 1````\n",
    "\n",
    "````trip[\"nom information 1\"]) = nouvelle valeur````\n",
    "\n",
    "\n",
    "\n",
    "**TODO**\n",
    "\n",
    "- Ajouter au moins deux autres paires de clé/valeur dans le dictionnaire suivant.\n",
    "- Afficher un petit résumé du voyage, incluant un calcul du nombre moyen de photo prises par jour"
   ]
  },
  {
   "cell_type": "code",
   "execution_count": 110,
   "id": "3fce9517",
   "metadata": {},
   "outputs": [
    {
     "name": "stdout",
     "output_type": "stream",
     "text": [
      "Trip to Montpellier in department 34:\n"
     ]
    }
   ],
   "source": [
    "# Create a dictionary for one trip\n",
    "#TODO Ajouter des paires clé-valeur de votre choix\n",
    "trip = {\n",
    "    \"city\": \"Montpellier\",\n",
    "    \"department\": 34,\n",
    "    \"photos_taken\": 150,\n",
    "    \"days_spent\": 5.5,\n",
    "    \"money_spent\": 200.50,\n",
    "    \"weather\": \"sunny\",\n",
    "    \"great_trip\": True,\n",
    "    \"hotel_name\": \"Hotel de la Mer\",\n",
    "}\n",
    "trip2 = {\n",
    "    \"city\": \"lyon\",\n",
    "    \"department\": 69,\n",
    "    \"photos_taken\": 15,\n",
    "    \"days_spent\": 5.5,\n",
    "    \"money_spent\": 200.50,\n",
    "    \"weather\": \"sunny\",\n",
    "    \"great_trip\": True,\n",
    "    \"hotel_name\": \"Hotel de la Mer\",\n",
    "}\n",
    "trip3 = {\n",
    "    \"city\": \"nise\",\n",
    "    \"department\": 6,\n",
    "    \"photos_taken\": 1509,\n",
    "    \"days_spent\": 5.5,\n",
    "    \"money_spent\": 200.50,\n",
    "    \"weather\": \"sunny\",\n",
    "    \"great_trip\": True,\n",
    "    \"hotel_name\": \"Hotel de la Mer\",\n",
    "}\n",
    "trip4 = {\n",
    "    \"city\": \"paris\",\n",
    "    \"department\": 75,\n",
    "    \"photos_taken\": 50,\n",
    "    \"days_spent\": 5.5,\n",
    "    \"money_spent\": 200.50,\n",
    "    \"weather\": \"sunny\",\n",
    "    \"great_trip\": True,\n",
    "    \"hotel_name\": \"Hotel de la Mer\",\n",
    "}\n",
    "trip_list = [trip, trip2, trip3, trip4]\n",
    "# Print a trip summary #TODO\n",
    "print(f\"Trip to {trip['city']} in department {trip['department']}:\")\n"
   ]
  },
  {
   "cell_type": "code",
   "execution_count": 111,
   "id": "4059b489",
   "metadata": {},
   "outputs": [
    {
     "name": "stdout",
     "output_type": "stream",
     "text": [
      "Unique cities: ['Montpellier', 'lyon', 'nise', 'paris']\n"
     ]
    }
   ],
   "source": [
    "trip_list = [trip, trip2, trip3, trip4]\n",
    "\n",
    "trip_cities = []\n",
    "for t in trip_list:\n",
    "    city = t[\"city\"]\n",
    "    if city not in trip_cities:\n",
    "        trip_cities.append(city)\n",
    "\n",
    "print(\"Unique cities:\", trip_cities)\n"
   ]
  },
  {
   "cell_type": "markdown",
   "id": "87488af5",
   "metadata": {},
   "source": [
    "### 4 - Carnet de voyage  \n",
    "\n",
    "On stocke plusieurs voyages dans une liste et on les affiche un à un.\n",
    "\n",
    "On peut parcourir tous les éléments d'une liste en faisant une boucle ```for```.\n",
    "\n",
    "__Syntaxe__\n",
    "\n",
    "\n",
    "````\n",
    "my_list = [element_1, element_2]\n",
    "for element in my_list:\n",
    "    print(element)\n",
    "````\n",
    "\n",
    "**TODO**\n",
    "- Afficher un élément de la liste. Ex : `my_list[0]` affiche le premier élément\n",
    "- Compter le nombre de voyage en utilisant `len(my_list)`\n",
    "- Pour chaque voyage de la liste, afficher un court résumé incluant un calcul du nombre moyen de photo prises par jour"
   ]
  },
  {
   "cell_type": "code",
   "execution_count": 112,
   "id": "944338fa",
   "metadata": {},
   "outputs": [
    {
     "name": "stdout",
     "output_type": "stream",
     "text": [
      "['trip', 'flight_trip', 'train_trip', 'bus_trip']\n"
     ]
    }
   ],
   "source": [
    "trip_list2 = [\"trip\", \"flight_trip\", \"train_trip\", \"bus_trip\"]\n",
    "print(trip_list2)"
   ]
  },
  {
   "cell_type": "code",
   "execution_count": 113,
   "id": "291fc9ec",
   "metadata": {},
   "outputs": [
    {
     "name": "stdout",
     "output_type": "stream",
     "text": [
      "trip\n",
      "flight_trip\n",
      "train_trip\n",
      "bus_trip\n",
      "train_trip\n",
      "4\n",
      "Travel Journal:\n",
      "train_trip\n"
     ]
    }
   ],
   "source": [
    "# TODO Add new trips to the list of trips\n",
    "trip_list2 = [\"trip\", \"flight_trip\", \"train_trip\", \"bus_trip\"]\n",
    "for trip in trip_list2:\n",
    "    print(trip)\n",
    "# TODO Print one element of the trip_list\n",
    "print(trip_list2[2])  # Print the third trip in the list\n",
    "print(len(trip_list2))   # Print the number of trips in the trip_list\n",
    "\n",
    "# Define a list to store multiple trips\n",
    "trip_list2 = [\"train_trip\"]  # Start with the third trip\n",
    "# Loop through and print each trip\n",
    "print(\"Travel Journal:\")\n",
    "for trip in trip_list2:\n",
    "    print(trip)  # Print each trip in the list\n",
    "# TODO Loop through trip_list2 and print each trip"
   ]
  },
  {
   "cell_type": "markdown",
   "id": "4d0ea091",
   "metadata": {},
   "source": [
    "### 5 - Utiliser des fonctions \n",
    "On a écrit plusieurs fois le numéro du département de Montpellier. On sait qu'il ne va pas changer au cours du projet, dans ce cas une bonne pratique pour savoir de quoi on parle et d'éviter les erreurs de recopie est de définir une variable en début de projet qu'on pourra réutiliser dés que nécessaire :\n",
    "\n",
    "```DEPARTEMENT = 34```\n",
    "\n",
    "On a également écrit plein de fois le calcul du nombre de photos par jour. On peut créer une fonction que l'on pourra réutiliser dés que nécessairequi prendra en entrée un voyage, qui fera le calcul et qui retournera le nombre moyen de photo.\n",
    "\n",
    "Après le nom de la fonction, on ajoute entre \"\"\" de la documentation sur les paramètres d'entrée (type et explication) et sur les sorties \"\"\"."
   ]
  },
  {
   "cell_type": "code",
   "execution_count": 114,
   "id": "1724eb3a",
   "metadata": {},
   "outputs": [],
   "source": [
    "def compute_average_photos_per_day(trip):\n",
    "    \"\"\"\n",
    "    Calculate the average number of photos taken per day for a trip.\n",
    "\n",
    "    Parameters\n",
    "    ----------\n",
    "    trip (dict)\n",
    "        Dictionary containing trip details including 'photos_taken' and 'days_spent'.   \n",
    "\n",
    "    Returns\n",
    "    -------\n",
    "    float\n",
    "        Average number of photos taken per day.\n",
    "    \"\"\"\n",
    "    return trip['photos_taken'] / trip['days_spent']\n",
    "    \n",
    "# Example usage\n",
    "trip_example = {\n",
    "    \"city\": \"Montpellier\",\n",
    "    \"department\": 34,\n",
    "    \"photos_taken\": 150,\n",
    "    \"days_spent\": 5.5,\n",
    "}\n",
    "average_photos = compute_average_photos_per_day(trip_example)"
   ]
  },
  {
   "cell_type": "markdown",
   "id": "bac621fe",
   "metadata": {},
   "source": [
    "**TODO**\n",
    "\n",
    "- Tester la fonction dans le case où ````photos_taken = 0````\n",
    "- Lire l'erreur\n",
    "- Adapter la fonction en utilisant une condition (if, else) pour renvoyer 0 dans ce cas."
   ]
  },
  {
   "cell_type": "code",
   "execution_count": 115,
   "id": "2caeba0f",
   "metadata": {},
   "outputs": [
    {
     "name": "stdout",
     "output_type": "stream",
     "text": [
      "Cannot compute average photos per day: days spent is zero.\n"
     ]
    }
   ],
   "source": [
    "# TODO Test function with a trip that has 0 photos\n",
    "trip_example = {\n",
    "    \"city\": \"Montpellier\",\n",
    "    \"department\": 34,\n",
    "    \"photos_taken\": 150,\n",
    "    \"days_spent\": 0,\n",
    "}\n",
    "if trip_example['days_spent'] == 0:\n",
    "    print(\"Cannot compute average photos per day: days spent is zero.\")\n",
    "elif days_spent > 0:\n",
    "    print(compute_average_photos_per_day(trip_example)) # Should handle division by zero gracefully\n",
    "else :\n",
    "    print(\"Invalid input: days spent must be greater than zero.\")"
   ]
  },
  {
   "cell_type": "code",
   "execution_count": 116,
   "id": "1ea11ba0",
   "metadata": {},
   "outputs": [],
   "source": [
    "def compute_average_photos_per_day(trip):\n",
    "    \"\"\"\n",
    "    Calculate the average number of photos taken per day for a trip.\n",
    "\n",
    "    Parameters\n",
    "    ----------\n",
    "    trip (dict)\n",
    "        Dictionary containing trip details including 'photos_taken' and 'days_spent'.   \n",
    "\n",
    "    Returns\n",
    "    -------\n",
    "    float\n",
    "        Average number of photos taken per day. If 'photos_taken' is 0, returns 0.\n",
    "    \"\"\"\n"
   ]
  },
  {
   "cell_type": "markdown",
   "id": "bac9b0ad",
   "metadata": {},
   "source": [
    "### 6 - Compter les villes uniques visitées  \n",
    "Au lieu d'utiliser une boucle `for` pour parcourir les éléments d'une liste, on peut utiliser la **compréhension de liste**.\n",
    "\n",
    "__Exemple__\n",
    "\n",
    "\n",
    "```\n",
    "my_list = [100, 200, 300]\n",
    "comprehension_list = [value / 10 for value in my_list]\n",
    "comprehension_list\n",
    ">> [10.0, 20.0, 30.0]\n",
    "```\n",
    "\n",
    "**TODO**\n",
    "- Afficher la liste `trip_list` définie précédemment, vérifier qu'elle contient plusieurs villes différentes.\n",
    "- Créer la liste `cities` en adaptant l'exemple ci-dessus.\n",
    "- Affiche le nombre de villes différentes visitées, sans doublon. Utiliser `set(my_liste)`qui permet de conserver les éléments uniques d'une liste."
   ]
  },
  {
   "cell_type": "code",
   "execution_count": 117,
   "id": "2915a507",
   "metadata": {},
   "outputs": [
    {
     "name": "stdout",
     "output_type": "stream",
     "text": [
      "[{'city': 'Montpellier', 'department': 34, 'photos_taken': 150, 'days_spent': 5.5, 'money_spent': 200.5, 'weather': 'sunny', 'great_trip': True, 'hotel_name': 'Hotel de la Mer'}, {'city': 'lyon', 'department': 69, 'photos_taken': 15, 'days_spent': 5.5, 'money_spent': 200.5, 'weather': 'sunny', 'great_trip': True, 'hotel_name': 'Hotel de la Mer'}, {'city': 'nise', 'department': 6, 'photos_taken': 1509, 'days_spent': 5.5, 'money_spent': 200.5, 'weather': 'sunny', 'great_trip': True, 'hotel_name': 'Hotel de la Mer'}, {'city': 'paris', 'department': 75, 'photos_taken': 50, 'days_spent': 5.5, 'money_spent': 200.5, 'weather': 'sunny', 'great_trip': True, 'hotel_name': 'Hotel de la Mer'}]\n"
     ]
    }
   ],
   "source": [
    "# TODO Print trip_list\n",
    "print(trip_list)"
   ]
  },
  {
   "cell_type": "code",
   "execution_count": 118,
   "id": "7b6130d3",
   "metadata": {},
   "outputs": [
    {
     "name": "stdout",
     "output_type": "stream",
     "text": [
      "Number of unique cities: 8\n"
     ]
    }
   ],
   "source": [
    "cities_2 = [\"Lyon\", \"Marseille\", \"Nice\", \"Toulouse\"]\n",
    "\n",
    "# Create an empty set to store unique cities\n",
    "unique_cities = set()\n",
    "\n",
    "# Loop through the first list\n",
    "for city in trip_cities:\n",
    "    unique_cities.add(city)\n",
    "\n",
    "# Loop through the second list\n",
    "for city in cities_2:\n",
    "    unique_cities.add(city)\n",
    "\n",
    "# Print the number of unique cities\n",
    "print(f\"Number of unique cities: {len(unique_cities)}\")\n",
    "\n",
    "\n"
   ]
  },
  {
   "cell_type": "markdown",
   "id": "11c13169",
   "metadata": {},
   "source": [
    "### 7 - Trier les voyages par nombre de photos  \n",
    "\n",
    "**TODO**\n",
    "- Afficher les voyages du plus photographié au moins photographié. Utiliser la fonction [sorted](https://docs.python.org/3/library/functions.html#sorted) en allant lire la documentation de fonction."
   ]
  },
  {
   "cell_type": "code",
   "execution_count": 119,
   "id": "ac2706fa",
   "metadata": {},
   "outputs": [],
   "source": [
    "# # TODO Print trips from the most photographed to the least photographed\n",
    "# def sort_trips_by_photos(trip_cities):\n",
    "#     \"\"\"\n",
    "#     Sort a list of trips by the number of photos taken in descending order.\n",
    "\n",
    "#     Parameters\n",
    "#     ----------\n",
    "#     trip_list (list)\n",
    "#         List of dictionaries, each containing trip details including 'photos_taken'.\n",
    "\n",
    "#     Returns\n",
    "#     -------\n",
    "#     list\n",
    "#         Sorted list of trips by 'photos_taken' in descending order.\n",
    "#     \"\"\"\n",
    "#     return sorted(trip_cities, key=lambda x: x['photos_taken'], reverse=True)"
   ]
  },
  {
   "cell_type": "code",
   "execution_count": 120,
   "id": "5bf3519a",
   "metadata": {},
   "outputs": [
    {
     "name": "stdout",
     "output_type": "stream",
     "text": [
      "[{'city': 'nise', 'department': 6, 'photos_taken': 1509, 'days_spent': 5.5, 'money_spent': 200.5, 'weather': 'sunny', 'great_trip': True, 'hotel_name': 'Hotel de la Mer'}, {'city': 'Montpellier', 'department': 34, 'photos_taken': 150, 'days_spent': 5.5, 'money_spent': 200.5, 'weather': 'sunny', 'great_trip': True, 'hotel_name': 'Hotel de la Mer'}, {'city': 'paris', 'department': 75, 'photos_taken': 50, 'days_spent': 5.5, 'money_spent': 200.5, 'weather': 'sunny', 'great_trip': True, 'hotel_name': 'Hotel de la Mer'}, {'city': 'lyon', 'department': 69, 'photos_taken': 15, 'days_spent': 5.5, 'money_spent': 200.5, 'weather': 'sunny', 'great_trip': True, 'hotel_name': 'Hotel de la Mer'}]\n"
     ]
    }
   ],
   "source": [
    "print(sorted(trip_list, key=lambda x: x['photos_taken'], reverse=True))"
   ]
  }
 ],
 "metadata": {
  "kernelspec": {
   "display_name": ".venv",
   "language": "python",
   "name": "python3"
  },
  "language_info": {
   "codemirror_mode": {
    "name": "ipython",
    "version": 3
   },
   "file_extension": ".py",
   "mimetype": "text/x-python",
   "name": "python",
   "nbconvert_exporter": "python",
   "pygments_lexer": "ipython3",
   "version": "3.12.3"
  }
 },
 "nbformat": 4,
 "nbformat_minor": 5
}
