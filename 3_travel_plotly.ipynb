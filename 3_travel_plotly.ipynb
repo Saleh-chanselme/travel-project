{
 "cells": [
  {
   "cell_type": "markdown",
   "metadata": {},
   "source": [
    "# Visualisation des données avec Plotly\n",
    "\n",
    "A présent que vous savez manipuler les données avec pandas, vous allez apprendre à représenter les données sous forme de jolis graphiques à l'aide de la bibliothèque **Plotly Express**.  \n",
    "On utilisera le fichier **clean_travel_data.csv** comme base.\n",
    "\n",
    "Pour vous aider, voici la documentation officielle de Plotly :  \n",
    "https://plotly.com/python/plotly-express/\n",
    "\n",
    "N'hésitez pas à rechercher les fonctions, paramètres et exemples nécessaires pour réaliser les tâches demandées.  \n",
    "\n",
    "Chaque cellule de code est précédée d'une cellule TODO indiquant la liste des objectifs à atteindre.\n",
    "\n",
    "Répondez également aux quelques petites questions des TODO s'il y en a."
   ]
  },
  {
   "cell_type": "code",
   "execution_count": null,
   "id": "037a8a00",
   "metadata": {},
   "outputs": [],
   "source": [
    "# Il faut installer la bibliothèque plotly. On verra comment faire ça proprement plus tard.\n",
    "!pip install plotly"
   ]
  },
  {
   "cell_type": "markdown",
   "metadata": {},
   "source": [
    "# 1. Nombre total de photos par ville"
   ]
  },
  {
   "cell_type": "markdown",
   "metadata": {},
   "source": [
    "**TODO**\n",
    "\n",
    "- Importer plotly.express sous le nom px\n",
    "- Créer un graphique en barres représentant le total de photos par ville\n",
    "- Trier les villes selon le nombre de photos de manière décroissante\n",
    "- Afficher le graphique"
   ]
  },
  {
   "cell_type": "code",
   "execution_count": null,
   "metadata": {},
   "outputs": [
    {
     "name": "stdout",
     "output_type": "stream",
     "text": [
      "Requirement already satisfied: plotly in /Library/Frameworks/Python.framework/Versions/3.13/lib/python3.13/site-packages (6.1.1)\n",
      "Requirement already satisfied: narwhals>=1.15.1 in /Library/Frameworks/Python.framework/Versions/3.13/lib/python3.13/site-packages (from plotly) (1.40.0)\n",
      "Requirement already satisfied: packaging in /Library/Frameworks/Python.framework/Versions/3.13/lib/python3.13/site-packages (from plotly) (25.0)\n",
      "Note: you may need to restart the kernel to use updated packages.\n"
     ]
    }
   ],
   "source": [
    "%pip install plotly\n",
    "\n",
    "import plotly.express as px\n",
    "import pandas as pd \n",
    "\n",
    "# Load the cleaned travel data\n",
    "df_trips = pd.read_csv(\"clean_travel_data.csv\")\n",
    "\n",
    "# Group by city and sum photos\n",
    "photos_per_city = df_trips.groupby('city')['photos'].sum().reset_index()\n",
    "\n",
    "# 🔽 Sort cities by number of photos in descending order\n",
    "photos_per_city = photos_per_city.sort_values(by='photos', ascending=False)\n",
    "\n",
    "# Create the bar chart using Plotly\n",
    "fig = px.bar(\n",
    "    photos_per_city,\n",
    "    x='city',\n",
    "    y='photos',\n",
    "    title='Total number of photos per city by : saleh chanselme',\n",
    "    labels={\n",
    "        'city': 'City',\n",
    "        'photos': 'Number of photos'\n",
    "    }\n",
    ")\n",
    "\n",
    "# Display the chart in the default web browser\n",
    "fig.show(renderer=\"browser\")\n",
    "\n"
   ]
  },
  {
   "cell_type": "markdown",
   "metadata": {},
   "source": [
    "# 2. Répartition des humeurs (mood) en camembert"
   ]
  },
  {
   "cell_type": "markdown",
   "metadata": {},
   "source": [
    "**TODO**\n",
    "\n",
    "- Créer un graphique en camembert basé sur la répartition des humeurs (colonne mood)\n",
    "- Afficher les pourcentages sur chaque tranche\n",
    "- Afficher le graphique"
   ]
  },
  {
   "cell_type": "code",
   "execution_count": null,
   "metadata": {},
   "outputs": [],
   "source": [
    "# Create the pie chart and show percentage labels directly\n",
    "fig = px.pie(\n",
    "    df_trips,\n",
    "    names='mood',\n",
    "    title='Distribution of Moods During Trips by : saleh chanselme',\n",
    "    hole=0,  # Full pie (not donut)\n",
    ")\n",
    "\n",
    "# Show percentage on each slice\n",
    "fig.update_traces(textinfo='percent+label')  # Show both % and label (e.g., happy: 50%)\n",
    "\n",
    "# Show the chart in the browser\n",
    "fig.show(renderer=\"browser\")"
   ]
  },
  {
   "cell_type": "markdown",
   "metadata": {},
   "source": [
    "# 3. Évolution du nombre de photos dans le temps"
   ]
  },
  {
   "cell_type": "markdown",
   "metadata": {},
   "source": [
    "**TODO**\n",
    "\n",
    "- Créer un graphique en ligne avec la date sur l'axe des x et le nombre de photos sur l'axe des y\n",
    "- Colorer les lignes ou points selon la météo (weather)\n",
    "- Afficher le graphique\n",
    "- Que remarquez vous ? Qu'auriez du vous faire ?"
   ]
  },
  {
   "cell_type": "code",
   "execution_count": 28,
   "metadata": {},
   "outputs": [],
   "source": [
    "# Ensure 'date' is datetime\n",
    "df_trips['date'] = pd.to_datetime(df_trips['date'])\n",
    "\n",
    "# Create line chart colored by weather\n",
    "fig = px.line(\n",
    "    df_trips,\n",
    "    x='date',\n",
    "    y='photos',\n",
    "    color='weather',  # 👈 color lines or points by weather\n",
    "    title='Number of Photos Over Time by Weather by : saleh chanselme',\n",
    "    labels={\n",
    "        'date': 'Date',\n",
    "        'photos': 'Number of Photos',\n",
    "        'weather': 'Weather'\n",
    "    }\n",
    ")\n",
    "\n",
    "# Show chart\n",
    "fig.show(renderer=\"browser\")\n",
    "\n",
    "#Je remarque que les lignes sont parfois brisées ou superposées, car il y a plusieurs entrées pour la même date avec des météos différentes.\n",
    "#J’aurais dû regrouper les données par date et météo, ou utiliser un graphique à points (scatter plot) pour une meilleure lisibilité."
   ]
  },
  {
   "cell_type": "markdown",
   "metadata": {},
   "source": [
    "# 4. Distribution du nombre de photos selon la météo"
   ]
  },
  {
   "cell_type": "markdown",
   "metadata": {},
   "source": [
    "**TODO**\n",
    "\n",
    "- Créer un diagramme en boîte (box plot) pour visualiser la répartition du nombre de photos selon la météo\n",
    "- Afficher le graphique\n",
    "- Quelles conclusions tirez-vous de ce graphe ?"
   ]
  },
  {
   "cell_type": "code",
   "execution_count": null,
   "metadata": {},
   "outputs": [],
   "source": [
    "# Créer le box plot\n",
    "fig = px.box(\n",
    "    df_trips,\n",
    "    x='weather',          # Catégories : météo\n",
    "    y='photos',           # Valeurs : nombre de photos\n",
    "    title='Répartition du nombre de photos selon la météo',\n",
    "    labels={\n",
    "        'weather': 'Météo',\n",
    "        'photos': 'Nombre de photos'\n",
    "    }\n",
    ")\n",
    "\n",
    "# Afficher le graphique\n",
    "fig.show(renderer=\"browser\")\n",
    "\n",
    "# Le diagramme en boîte montre que certaines conditions météo (comme sunny) sont associées à un plus grand \n",
    "# nombre de photos, avec une médiane plus élevée et des valeurs maximales plus importantes.\n",
    "# En revanche, par temps rainy ou cloudy, le nombre de photos est généralement plus faible et plus concentré.\n",
    "# On peut donc en conclure que la météo influence le comportement des voyageurs concernant la prise de photos."
   ]
  },
  {
   "cell_type": "markdown",
   "metadata": {},
   "source": [
    "# 5. Nuage de points photos vs humeur"
   ]
  },
  {
   "cell_type": "markdown",
   "metadata": {},
   "source": [
    "**TODO**\n",
    "\n",
    "- Créer un graphique de type scatter plot avec mood en abscisse et photos en ordonnée\n",
    "- Ajouter une info-bulle avec les noms de ville\n",
    "- Afficher le graphique"
   ]
  },
  {
   "cell_type": "code",
   "execution_count": 30,
   "metadata": {},
   "outputs": [],
   "source": [
    "# Create scatter plot with city names in the tooltip\n",
    "fig = px.scatter(\n",
    "    df_trips,\n",
    "    x='mood',\n",
    "    y='photos',\n",
    "    title='Number of Photos by Mood',\n",
    "    labels={\n",
    "        'mood': 'Mood',\n",
    "        'photos': 'Number of Photos'\n",
    "    },\n",
    "    hover_data=['city']  #add city to the tooltip\n",
    ")\n",
    "\n",
    "# Show the chart\n",
    "fig.show(renderer=\"browser\")"
   ]
  }
 ],
 "metadata": {
  "kernelspec": {
   "display_name": "Python 3",
   "language": "python",
   "name": "python3"
  },
  "language_info": {
   "codemirror_mode": {
    "name": "ipython",
    "version": 3
   },
   "file_extension": ".py",
   "mimetype": "text/x-python",
   "name": "python",
   "nbconvert_exporter": "python",
   "pygments_lexer": "ipython3",
   "version": "3.13.3"
  }
 },
 "nbformat": 4,
 "nbformat_minor": 5
}
